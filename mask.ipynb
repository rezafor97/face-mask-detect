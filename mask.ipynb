{
  "nbformat": 4,
  "nbformat_minor": 0,
  "metadata": {
    "accelerator": "GPU",
    "colab": {
      "name": "fc for pne (final).ipynb",
      "provenance": []
    },
    "kernelspec": {
      "display_name": "Python 3",
      "language": "python",
      "name": "python3"
    }
  },
  "cells": [
    {
      "cell_type": "code",
      "metadata": {
        "id": "pzicW5fkp9LO"
      },
      "source": [
        "import tensorflow as tf\n",
        "from tensorflow.keras import models\n",
        "from tensorflow.keras import layers\n",
        "from tensorflow.keras import regularizers\n",
        "import numpy as np\n",
        "from tensorflow.keras import optimizers\n",
        "from tensorflow.keras.preprocessing.image import ImageDataGenerator\n",
        "import matplotlib.pyplot as plt\n",
        "from tensorflow.keras.layers import LeakyReLU\n",
        "from tensorflow.keras.callbacks import ModelCheckpoint\n",
        "\n",
        "import os\n",
        "import glob\n",
        "import scipy"
      ],
      "execution_count": 44,
      "outputs": []
    },
    {
      "cell_type": "code",
      "metadata": {
        "id": "fNhWPHdHlKdH"
      },
      "source": [],
      "execution_count": 25,
      "outputs": []
    },
    {
      "cell_type": "code",
      "metadata": {
        "id": "iFkqv8WuqK94"
      },
      "source": [
        "def directory():\n",
        "    train_dir = \"/media/reza/G & S/D/mask dataset/train\"\n",
        "    valid_dir = \"/media/reza/G & S/D/mask dataset/valid\"\n",
        "    test_dir = \"/media/reza/G & S/D/mask dataset/test\"\n",
        "    return train_dir,valid_dir,test_dir\n",
        "train_dir,valid_dir,test_dir=directory()"
      ],
      "execution_count": 45,
      "outputs": []
    },
    {
      "cell_type": "code",
      "metadata": {
        "colab": {
          "base_uri": "https://localhost:8080/"
        },
        "id": "-ztIg-PxqO6z",
        "outputId": "7ceba592-8dbb-4874-f907-1a3a74ab293e"
      },
      "source": [
        "\n",
        "\n",
        "def preprocess(train_dir,valid_dir,test_dir,batch_size,target_size,rescale,zoom_range,vertical_flip,rotation_range):\n",
        "    train_datagen=ImageDataGenerator(rescale=rescale,zoom_range=zoom_range ,vertical_flip=vertical_flip,rotation_range=rotation_range)\n",
        "    test_datagen=ImageDataGenerator(rescale=rescale)\n",
        "    valid_datagen=ImageDataGenerator(rescale=rescale)\n",
        "\n",
        "    train_generator = train_datagen.flow_from_directory(train_dir,target_size=target_size,batch_size=batch_size,class_mode=\"binary\")\n",
        "\n",
        "    valid_generator = valid_datagen.flow_from_directory(valid_dir,target_size=target_size,batch_size=batch_size,class_mode=\"binary\")\n",
        "\n",
        "    test_generator = test_datagen.flow_from_directory(test_dir,target_size=target_size,batch_size=batch_size,class_mode=\"binary\")\n",
        "\n",
        "\n",
        "    return train_generator,valid_generator,test_generator\n",
        "\n",
        "    \n",
        "train_set,valid_set,test_set=preprocess(train_dir,valid_dir,test_dir,batch_size=28,target_size=(150,150),rescale=1./255.,zoom_range=0.2,vertical_flip=True,rotation_range=0.2)\n",
        "\n"
      ],
      "execution_count": 46,
      "outputs": [
        {
          "output_type": "stream",
          "name": "stdout",
          "text": [
            "Found 11106 images belonging to 2 classes.\nFound 1000 images belonging to 2 classes.\nFound 558 images belonging to 2 classes.\n"
          ]
        }
      ]
    },
    {
      "cell_type": "code",
      "metadata": {
        "id": "nqqbjxToqRUP"
      },
      "source": [
        "def model(input_shape,activation,lr):\n",
        "    model = models.Sequential()\n",
        "    model.add(layers.Conv2D(32, (5, 5), activation='relu',padding='same',\n",
        "                        input_shape=(150, 150, 3)))\n",
        "    model.add(layers.Conv2D(64, (5,5), activation='relu',padding='same'))\n",
        "    model.add(layers.MaxPooling2D((2, 2)))\n",
        "    model.add(layers.Conv2D(128, (3, 3), activation='relu',padding='same',kernel_regularizer=regularizers.l2(0.001)))\n",
        "    model.add(layers.Dropout(0.2))\n",
        "    model.add(layers.MaxPooling2D((2, 2)))\n",
        "    model.add(layers.Conv2D(256, (5,5), activation='relu',padding='same'))\n",
        "    model.add(layers.Conv2D(256, (3, 3), activation='relu',padding='same',kernel_regularizer=regularizers.l2(0.001)))\n",
        "    model.add(layers.MaxPooling2D((2, 2)))\n",
        "    model.add(layers.Conv2D(512, (3, 3), activation='relu',padding='same',kernel_regularizer=regularizers.l2(0.001)))\n",
        "    model.add(layers.Dropout(0.2))\n",
        "    model.add(layers.MaxPooling2D((2, 2)))\n",
        "    model.add(layers.Flatten())\n",
        "    model.add(layers.Dense(128, activation='relu'))\n",
        "    model.add(layers.Dense(256, activation='relu'))\n",
        "    model.add(layers.Dense(256, activation='relu'))\n",
        "    model.add(layers.Dense(128, activation='relu'))\n",
        "    model.add(layers.Dense(1, activation='sigmoid'))\n",
        "    model.compile(optimizer=optimizers.RMSprop(lr=lr),loss='binary_crossentropy',metrics=['accuracy'])\n",
        "    return model\n",
        "model=model(input_shape=(150,150,3),activation='relu',lr=0.0003)"
      ],
      "execution_count": 47,
      "outputs": []
    },
    {
      "cell_type": "code",
      "metadata": {
        "colab": {
          "base_uri": "https://localhost:8080/"
        },
        "id": "zcSQMf6uqXOR",
        "outputId": "99683edf-9400-459d-cb36-e8056c334508"
      },
      "source": [
        "def train(train_set,valid_set,epochs,batch_size):\n",
        "    filepath=\"weights-improvement1.hdf5\"\n",
        "    checkpoint = ModelCheckpoint(filepath,monitor='val_loss', verbose=1, save_best_only=True,\n",
        "    save_weights_only=True, mode='auto')\n",
        "    callbacks_list = [checkpoint]\n",
        "    history = model.fit_generator(train_set,steps_per_epoch=50, \n",
        "           epochs=epochs, validation_data=valid_set,callbacks=callbacks_list)\n",
        "    return history\n",
        "\n",
        "\n",
        "train_history=train(train_set,valid_set,epochs=40,batch_size=128)\n"
      ],
      "execution_count": 48,
      "outputs": [
        {
          "output_type": "stream",
          "name": "stdout",
          "text": [
            "Epoch 1/40\n",
            "50/50 [==============================] - 52s 899ms/step - loss: 1.3092 - accuracy: 0.4969 - val_loss: 0.9322 - val_accuracy: 0.5280\n",
            "\n",
            "Epoch 00001: val_loss improved from inf to 0.93216, saving model to weights-improvement1.hdf5\n",
            "Epoch 2/40\n",
            "50/50 [==============================] - 42s 841ms/step - loss: 0.9077 - accuracy: 0.6305 - val_loss: 0.6313 - val_accuracy: 0.8850\n",
            "\n",
            "Epoch 00002: val_loss improved from 0.93216 to 0.63129, saving model to weights-improvement1.hdf5\n",
            "Epoch 3/40\n",
            "50/50 [==============================] - 42s 839ms/step - loss: 0.7727 - accuracy: 0.6594 - val_loss: 0.5209 - val_accuracy: 0.8260\n",
            "\n",
            "Epoch 00003: val_loss improved from 0.63129 to 0.52088, saving model to weights-improvement1.hdf5\n",
            "Epoch 4/40\n",
            "50/50 [==============================] - 42s 837ms/step - loss: 0.5210 - accuracy: 0.8086 - val_loss: 0.4873 - val_accuracy: 0.8440\n",
            "\n",
            "Epoch 00004: val_loss improved from 0.52088 to 0.48726, saving model to weights-improvement1.hdf5\n",
            "Epoch 5/40\n",
            "50/50 [==============================] - 46s 911ms/step - loss: 0.4476 - accuracy: 0.8416 - val_loss: 0.5207 - val_accuracy: 0.8410\n",
            "\n",
            "Epoch 00005: val_loss did not improve from 0.48726\n",
            "Epoch 6/40\n",
            "50/50 [==============================] - 42s 837ms/step - loss: 0.4012 - accuracy: 0.8537 - val_loss: 0.4432 - val_accuracy: 0.8460\n",
            "\n",
            "Epoch 00006: val_loss improved from 0.48726 to 0.44321, saving model to weights-improvement1.hdf5\n",
            "Epoch 7/40\n",
            "50/50 [==============================] - 42s 831ms/step - loss: 0.3510 - accuracy: 0.8767 - val_loss: 0.4519 - val_accuracy: 0.8630\n",
            "\n",
            "Epoch 00007: val_loss did not improve from 0.44321\n",
            "Epoch 8/40\n",
            "50/50 [==============================] - 42s 836ms/step - loss: 0.3051 - accuracy: 0.8950 - val_loss: 0.4159 - val_accuracy: 0.8120\n",
            "\n",
            "Epoch 00008: val_loss improved from 0.44321 to 0.41593, saving model to weights-improvement1.hdf5\n",
            "Epoch 9/40\n",
            "50/50 [==============================] - 42s 839ms/step - loss: 0.3119 - accuracy: 0.8837 - val_loss: 0.3395 - val_accuracy: 0.8820\n",
            "\n",
            "Epoch 00009: val_loss improved from 0.41593 to 0.33946, saving model to weights-improvement1.hdf5\n",
            "Epoch 10/40\n",
            "50/50 [==============================] - 42s 838ms/step - loss: 0.2987 - accuracy: 0.8961 - val_loss: 0.3207 - val_accuracy: 0.8800\n",
            "\n",
            "Epoch 00010: val_loss improved from 0.33946 to 0.32069, saving model to weights-improvement1.hdf5\n",
            "Epoch 11/40\n",
            "50/50 [==============================] - 42s 835ms/step - loss: 0.3284 - accuracy: 0.8854 - val_loss: 0.3323 - val_accuracy: 0.8700\n",
            "\n",
            "Epoch 00011: val_loss did not improve from 0.32069\n",
            "Epoch 12/40\n",
            "50/50 [==============================] - 42s 837ms/step - loss: 0.2861 - accuracy: 0.9083 - val_loss: 0.3428 - val_accuracy: 0.8690\n",
            "\n",
            "Epoch 00012: val_loss did not improve from 0.32069\n",
            "Epoch 13/40\n",
            "50/50 [==============================] - 42s 837ms/step - loss: 0.2569 - accuracy: 0.9067 - val_loss: 0.2827 - val_accuracy: 0.9010\n",
            "\n",
            "Epoch 00013: val_loss improved from 0.32069 to 0.28268, saving model to weights-improvement1.hdf5\n",
            "Epoch 14/40\n",
            "50/50 [==============================] - 42s 832ms/step - loss: 0.2494 - accuracy: 0.9146 - val_loss: 0.2930 - val_accuracy: 0.9000\n",
            "\n",
            "Epoch 00014: val_loss did not improve from 0.28268\n",
            "Epoch 15/40\n",
            "50/50 [==============================] - 42s 839ms/step - loss: 0.2503 - accuracy: 0.9190 - val_loss: 0.3611 - val_accuracy: 0.8530\n",
            "\n",
            "Epoch 00015: val_loss did not improve from 0.28268\n",
            "Epoch 16/40\n",
            "50/50 [==============================] - 42s 838ms/step - loss: 0.2380 - accuracy: 0.9207 - val_loss: 0.2748 - val_accuracy: 0.9150\n",
            "\n",
            "Epoch 00016: val_loss improved from 0.28268 to 0.27480, saving model to weights-improvement1.hdf5\n",
            "Epoch 17/40\n",
            "50/50 [==============================] - 42s 839ms/step - loss: 0.2290 - accuracy: 0.9284 - val_loss: 0.2993 - val_accuracy: 0.8850\n",
            "\n",
            "Epoch 00017: val_loss did not improve from 0.27480\n",
            "Epoch 18/40\n",
            "50/50 [==============================] - 42s 836ms/step - loss: 0.2191 - accuracy: 0.9303 - val_loss: 0.3313 - val_accuracy: 0.8620\n",
            "\n",
            "Epoch 00018: val_loss did not improve from 0.27480\n",
            "Epoch 19/40\n",
            "50/50 [==============================] - 42s 835ms/step - loss: 0.1840 - accuracy: 0.9340 - val_loss: 0.3000 - val_accuracy: 0.9120\n",
            "\n",
            "Epoch 00019: val_loss did not improve from 0.27480\n",
            "Epoch 20/40\n",
            "50/50 [==============================] - 42s 839ms/step - loss: 0.2146 - accuracy: 0.9197 - val_loss: 0.2212 - val_accuracy: 0.9210\n",
            "\n",
            "Epoch 00020: val_loss improved from 0.27480 to 0.22125, saving model to weights-improvement1.hdf5\n",
            "Epoch 21/40\n",
            "50/50 [==============================] - 42s 837ms/step - loss: 0.2694 - accuracy: 0.9141 - val_loss: 0.2615 - val_accuracy: 0.9110\n",
            "\n",
            "Epoch 00021: val_loss did not improve from 0.22125\n",
            "Epoch 22/40\n",
            "50/50 [==============================] - 42s 834ms/step - loss: 0.2142 - accuracy: 0.9279 - val_loss: 0.4246 - val_accuracy: 0.8190\n",
            "\n",
            "Epoch 00022: val_loss did not improve from 0.22125\n",
            "Epoch 23/40\n",
            "50/50 [==============================] - 49s 970ms/step - loss: 0.2125 - accuracy: 0.9412 - val_loss: 0.2726 - val_accuracy: 0.9030\n",
            "\n",
            "Epoch 00023: val_loss did not improve from 0.22125\n",
            "Epoch 24/40\n",
            "50/50 [==============================] - 44s 869ms/step - loss: 0.2137 - accuracy: 0.9267 - val_loss: 0.2654 - val_accuracy: 0.9030\n",
            "\n",
            "Epoch 00024: val_loss did not improve from 0.22125\n",
            "Epoch 25/40\n",
            "50/50 [==============================] - 42s 831ms/step - loss: 0.1985 - accuracy: 0.9269 - val_loss: 0.3222 - val_accuracy: 0.8790\n",
            "\n",
            "Epoch 00025: val_loss did not improve from 0.22125\n",
            "Epoch 26/40\n",
            "50/50 [==============================] - 42s 828ms/step - loss: 0.2094 - accuracy: 0.9295 - val_loss: 0.2534 - val_accuracy: 0.9110\n",
            "\n",
            "Epoch 00026: val_loss did not improve from 0.22125\n",
            "Epoch 27/40\n",
            "50/50 [==============================] - 42s 826ms/step - loss: 0.2164 - accuracy: 0.9256 - val_loss: 0.2749 - val_accuracy: 0.9160\n",
            "\n",
            "Epoch 00027: val_loss did not improve from 0.22125\n",
            "Epoch 28/40\n",
            "50/50 [==============================] - 42s 829ms/step - loss: 0.2006 - accuracy: 0.9271 - val_loss: 0.2988 - val_accuracy: 0.9160\n",
            "\n",
            "Epoch 00028: val_loss did not improve from 0.22125\n",
            "Epoch 29/40\n",
            "50/50 [==============================] - 41s 826ms/step - loss: 0.1938 - accuracy: 0.9303 - val_loss: 0.3233 - val_accuracy: 0.8990\n",
            "\n",
            "Epoch 00029: val_loss did not improve from 0.22125\n",
            "Epoch 30/40\n",
            "50/50 [==============================] - 42s 832ms/step - loss: 0.1797 - accuracy: 0.9388 - val_loss: 0.3480 - val_accuracy: 0.8550\n",
            "\n",
            "Epoch 00030: val_loss did not improve from 0.22125\n",
            "Epoch 31/40\n",
            "50/50 [==============================] - 42s 834ms/step - loss: 0.1764 - accuracy: 0.9409 - val_loss: 0.2269 - val_accuracy: 0.9440\n",
            "\n",
            "Epoch 00031: val_loss did not improve from 0.22125\n",
            "Epoch 32/40\n",
            "50/50 [==============================] - 42s 825ms/step - loss: 0.1918 - accuracy: 0.9297 - val_loss: 0.2448 - val_accuracy: 0.9180\n",
            "\n",
            "Epoch 00032: val_loss did not improve from 0.22125\n",
            "Epoch 33/40\n",
            "50/50 [==============================] - 43s 841ms/step - loss: 0.1973 - accuracy: 0.9362 - val_loss: 0.2149 - val_accuracy: 0.9320\n",
            "\n",
            "Epoch 00033: val_loss improved from 0.22125 to 0.21492, saving model to weights-improvement1.hdf5\n",
            "Epoch 34/40\n",
            "50/50 [==============================] - 44s 880ms/step - loss: 0.1691 - accuracy: 0.9481 - val_loss: 0.2848 - val_accuracy: 0.8950\n",
            "\n",
            "Epoch 00034: val_loss did not improve from 0.21492\n",
            "Epoch 35/40\n",
            "50/50 [==============================] - 44s 863ms/step - loss: 0.1936 - accuracy: 0.9338 - val_loss: 0.2532 - val_accuracy: 0.9120\n",
            "\n",
            "Epoch 00035: val_loss did not improve from 0.21492\n",
            "Epoch 36/40\n",
            "50/50 [==============================] - 42s 823ms/step - loss: 0.2016 - accuracy: 0.9183 - val_loss: 0.3172 - val_accuracy: 0.8850\n",
            "\n",
            "Epoch 00036: val_loss did not improve from 0.21492\n",
            "Epoch 37/40\n",
            "50/50 [==============================] - 41s 819ms/step - loss: 0.2149 - accuracy: 0.9199 - val_loss: 0.2599 - val_accuracy: 0.9240\n",
            "\n",
            "Epoch 00037: val_loss did not improve from 0.21492\n",
            "Epoch 38/40\n",
            "50/50 [==============================] - 41s 817ms/step - loss: 0.1578 - accuracy: 0.9475 - val_loss: 0.2798 - val_accuracy: 0.9350\n",
            "\n",
            "Epoch 00038: val_loss did not improve from 0.21492\n",
            "Epoch 39/40\n",
            "50/50 [==============================] - 41s 818ms/step - loss: 0.1526 - accuracy: 0.9478 - val_loss: 0.1960 - val_accuracy: 0.9400\n",
            "\n",
            "Epoch 00039: val_loss improved from 0.21492 to 0.19598, saving model to weights-improvement1.hdf5\n",
            "Epoch 40/40\n",
            "50/50 [==============================] - 44s 883ms/step - loss: 0.1900 - accuracy: 0.9296 - val_loss: 0.3280 - val_accuracy: 0.8720\n",
            "\n",
            "Epoch 00040: val_loss did not improve from 0.19598\n"
          ]
        }
      ]
    },
    {
      "cell_type": "code",
      "metadata": {
        "id": "fXS4hZ7VY_c0"
      },
      "source": [
        "def plot(history,figsize,y,x):\n",
        "    history_dict=history.history\n",
        "    loss=history_dict[y]\n",
        "    acc=history_dict[x]\n",
        "    epoch=range(1,len(acc)+1)\n",
        "    plt.figure(figsize=figsize)\n",
        "    plt.plot(epoch,loss,'bo',label='Training loss')\n",
        "    plt.plot(epoch,acc,'r',label='Training accuracy')\n",
        "    plt.xlabel('Epoches')\n",
        "    plt.ylabel('loss')\n",
        "    plt.legend()\n",
        "plot(train_history,(12,4),y='loss',x='accuracy')\n"
      ],
      "execution_count": 49,
      "outputs": [
        {
          "output_type": "display_data",
          "data": {
            "text/plain": "<Figure size 864x288 with 1 Axes>",
            "image/svg+xml": "<?xml version=\"1.0\" encoding=\"utf-8\" standalone=\"no\"?>\n<!DOCTYPE svg PUBLIC \"-//W3C//DTD SVG 1.1//EN\"\n  \"http://www.w3.org/Graphics/SVG/1.1/DTD/svg11.dtd\">\n<!-- Created with matplotlib (https://matplotlib.org/) -->\n<svg height=\"263.695627pt\" version=\"1.1\" viewBox=\"0 0 720.58125 263.695627\" width=\"720.58125pt\" xmlns=\"http://www.w3.org/2000/svg\" xmlns:xlink=\"http://www.w3.org/1999/xlink\">\n <metadata>\n  <rdf:RDF xmlns:cc=\"http://creativecommons.org/ns#\" xmlns:dc=\"http://purl.org/dc/elements/1.1/\" xmlns:rdf=\"http://www.w3.org/1999/02/22-rdf-syntax-ns#\">\n   <cc:Work>\n    <dc:type rdf:resource=\"http://purl.org/dc/dcmitype/StillImage\"/>\n    <dc:date>2021-02-15T13:07:37.505396</dc:date>\n    <dc:format>image/svg+xml</dc:format>\n    <dc:creator>\n     <cc:Agent>\n      <dc:title>Matplotlib v3.3.4, https://matplotlib.org/</dc:title>\n     </cc:Agent>\n    </dc:creator>\n   </cc:Work>\n  </rdf:RDF>\n </metadata>\n <defs>\n  <style type=\"text/css\">*{stroke-linecap:butt;stroke-linejoin:round;}</style>\n </defs>\n <g id=\"figure_1\">\n  <g id=\"patch_1\">\n   <path d=\"M 0 263.695627 \nL 720.58125 263.695627 \nL 720.58125 0 \nL 0 0 \nz\n\" style=\"fill:none;\"/>\n  </g>\n  <g id=\"axes_1\">\n   <g id=\"patch_2\">\n    <path d=\"M 43.78125 226.139377 \nL 713.38125 226.139377 \nL 713.38125 8.699377 \nL 43.78125 8.699377 \nz\n\" style=\"fill:#ffffff;\"/>\n   </g>\n   <g id=\"matplotlib.axis_1\">\n    <g id=\"xtick_1\">\n     <g id=\"line2d_1\">\n      <defs>\n       <path d=\"M 0 0 \nL 0 3.5 \n\" id=\"mfe083793c0\" style=\"stroke:#000000;stroke-width:0.8;\"/>\n      </defs>\n      <g>\n       <use style=\"stroke:#000000;stroke-width:0.8;\" x=\"58.609222\" xlink:href=\"#mfe083793c0\" y=\"226.139377\"/>\n      </g>\n     </g>\n     <g id=\"text_1\">\n      <!-- 0 -->\n      <g transform=\"translate(55.427972 240.737814)scale(0.1 -0.1)\">\n       <defs>\n        <path d=\"M 31.78125 66.40625 \nQ 24.171875 66.40625 20.328125 58.90625 \nQ 16.5 51.421875 16.5 36.375 \nQ 16.5 21.390625 20.328125 13.890625 \nQ 24.171875 6.390625 31.78125 6.390625 \nQ 39.453125 6.390625 43.28125 13.890625 \nQ 47.125 21.390625 47.125 36.375 \nQ 47.125 51.421875 43.28125 58.90625 \nQ 39.453125 66.40625 31.78125 66.40625 \nz\nM 31.78125 74.21875 \nQ 44.046875 74.21875 50.515625 64.515625 \nQ 56.984375 54.828125 56.984375 36.375 \nQ 56.984375 17.96875 50.515625 8.265625 \nQ 44.046875 -1.421875 31.78125 -1.421875 \nQ 19.53125 -1.421875 13.0625 8.265625 \nQ 6.59375 17.96875 6.59375 36.375 \nQ 6.59375 54.828125 13.0625 64.515625 \nQ 19.53125 74.21875 31.78125 74.21875 \nz\n\" id=\"DejaVuSans-48\"/>\n       </defs>\n       <use xlink:href=\"#DejaVuSans-48\"/>\n      </g>\n     </g>\n    </g>\n    <g id=\"xtick_2\">\n     <g id=\"line2d_2\">\n      <g>\n       <use style=\"stroke:#000000;stroke-width:0.8;\" x=\"136.65118\" xlink:href=\"#mfe083793c0\" y=\"226.139377\"/>\n      </g>\n     </g>\n     <g id=\"text_2\">\n      <!-- 5 -->\n      <g transform=\"translate(133.46993 240.737814)scale(0.1 -0.1)\">\n       <defs>\n        <path d=\"M 10.796875 72.90625 \nL 49.515625 72.90625 \nL 49.515625 64.59375 \nL 19.828125 64.59375 \nL 19.828125 46.734375 \nQ 21.96875 47.46875 24.109375 47.828125 \nQ 26.265625 48.1875 28.421875 48.1875 \nQ 40.625 48.1875 47.75 41.5 \nQ 54.890625 34.8125 54.890625 23.390625 \nQ 54.890625 11.625 47.5625 5.09375 \nQ 40.234375 -1.421875 26.90625 -1.421875 \nQ 22.3125 -1.421875 17.546875 -0.640625 \nQ 12.796875 0.140625 7.71875 1.703125 \nL 7.71875 11.625 \nQ 12.109375 9.234375 16.796875 8.0625 \nQ 21.484375 6.890625 26.703125 6.890625 \nQ 35.15625 6.890625 40.078125 11.328125 \nQ 45.015625 15.765625 45.015625 23.390625 \nQ 45.015625 31 40.078125 35.4375 \nQ 35.15625 39.890625 26.703125 39.890625 \nQ 22.75 39.890625 18.8125 39.015625 \nQ 14.890625 38.140625 10.796875 36.28125 \nz\n\" id=\"DejaVuSans-53\"/>\n       </defs>\n       <use xlink:href=\"#DejaVuSans-53\"/>\n      </g>\n     </g>\n    </g>\n    <g id=\"xtick_3\">\n     <g id=\"line2d_3\">\n      <g>\n       <use style=\"stroke:#000000;stroke-width:0.8;\" x=\"214.693138\" xlink:href=\"#mfe083793c0\" y=\"226.139377\"/>\n      </g>\n     </g>\n     <g id=\"text_3\">\n      <!-- 10 -->\n      <g transform=\"translate(208.330638 240.737814)scale(0.1 -0.1)\">\n       <defs>\n        <path d=\"M 12.40625 8.296875 \nL 28.515625 8.296875 \nL 28.515625 63.921875 \nL 10.984375 60.40625 \nL 10.984375 69.390625 \nL 28.421875 72.90625 \nL 38.28125 72.90625 \nL 38.28125 8.296875 \nL 54.390625 8.296875 \nL 54.390625 0 \nL 12.40625 0 \nz\n\" id=\"DejaVuSans-49\"/>\n       </defs>\n       <use xlink:href=\"#DejaVuSans-49\"/>\n       <use x=\"63.623047\" xlink:href=\"#DejaVuSans-48\"/>\n      </g>\n     </g>\n    </g>\n    <g id=\"xtick_4\">\n     <g id=\"line2d_4\">\n      <g>\n       <use style=\"stroke:#000000;stroke-width:0.8;\" x=\"292.735096\" xlink:href=\"#mfe083793c0\" y=\"226.139377\"/>\n      </g>\n     </g>\n     <g id=\"text_4\">\n      <!-- 15 -->\n      <g transform=\"translate(286.372596 240.737814)scale(0.1 -0.1)\">\n       <use xlink:href=\"#DejaVuSans-49\"/>\n       <use x=\"63.623047\" xlink:href=\"#DejaVuSans-53\"/>\n      </g>\n     </g>\n    </g>\n    <g id=\"xtick_5\">\n     <g id=\"line2d_5\">\n      <g>\n       <use style=\"stroke:#000000;stroke-width:0.8;\" x=\"370.777054\" xlink:href=\"#mfe083793c0\" y=\"226.139377\"/>\n      </g>\n     </g>\n     <g id=\"text_5\">\n      <!-- 20 -->\n      <g transform=\"translate(364.414554 240.737814)scale(0.1 -0.1)\">\n       <defs>\n        <path d=\"M 19.1875 8.296875 \nL 53.609375 8.296875 \nL 53.609375 0 \nL 7.328125 0 \nL 7.328125 8.296875 \nQ 12.9375 14.109375 22.625 23.890625 \nQ 32.328125 33.6875 34.8125 36.53125 \nQ 39.546875 41.84375 41.421875 45.53125 \nQ 43.3125 49.21875 43.3125 52.78125 \nQ 43.3125 58.59375 39.234375 62.25 \nQ 35.15625 65.921875 28.609375 65.921875 \nQ 23.96875 65.921875 18.8125 64.3125 \nQ 13.671875 62.703125 7.8125 59.421875 \nL 7.8125 69.390625 \nQ 13.765625 71.78125 18.9375 73 \nQ 24.125 74.21875 28.421875 74.21875 \nQ 39.75 74.21875 46.484375 68.546875 \nQ 53.21875 62.890625 53.21875 53.421875 \nQ 53.21875 48.921875 51.53125 44.890625 \nQ 49.859375 40.875 45.40625 35.40625 \nQ 44.1875 33.984375 37.640625 27.21875 \nQ 31.109375 20.453125 19.1875 8.296875 \nz\n\" id=\"DejaVuSans-50\"/>\n       </defs>\n       <use xlink:href=\"#DejaVuSans-50\"/>\n       <use x=\"63.623047\" xlink:href=\"#DejaVuSans-48\"/>\n      </g>\n     </g>\n    </g>\n    <g id=\"xtick_6\">\n     <g id=\"line2d_6\">\n      <g>\n       <use style=\"stroke:#000000;stroke-width:0.8;\" x=\"448.819012\" xlink:href=\"#mfe083793c0\" y=\"226.139377\"/>\n      </g>\n     </g>\n     <g id=\"text_6\">\n      <!-- 25 -->\n      <g transform=\"translate(442.456512 240.737814)scale(0.1 -0.1)\">\n       <use xlink:href=\"#DejaVuSans-50\"/>\n       <use x=\"63.623047\" xlink:href=\"#DejaVuSans-53\"/>\n      </g>\n     </g>\n    </g>\n    <g id=\"xtick_7\">\n     <g id=\"line2d_7\">\n      <g>\n       <use style=\"stroke:#000000;stroke-width:0.8;\" x=\"526.86097\" xlink:href=\"#mfe083793c0\" y=\"226.139377\"/>\n      </g>\n     </g>\n     <g id=\"text_7\">\n      <!-- 30 -->\n      <g transform=\"translate(520.49847 240.737814)scale(0.1 -0.1)\">\n       <defs>\n        <path d=\"M 40.578125 39.3125 \nQ 47.65625 37.796875 51.625 33 \nQ 55.609375 28.21875 55.609375 21.1875 \nQ 55.609375 10.40625 48.1875 4.484375 \nQ 40.765625 -1.421875 27.09375 -1.421875 \nQ 22.515625 -1.421875 17.65625 -0.515625 \nQ 12.796875 0.390625 7.625 2.203125 \nL 7.625 11.71875 \nQ 11.71875 9.328125 16.59375 8.109375 \nQ 21.484375 6.890625 26.8125 6.890625 \nQ 36.078125 6.890625 40.9375 10.546875 \nQ 45.796875 14.203125 45.796875 21.1875 \nQ 45.796875 27.640625 41.28125 31.265625 \nQ 36.765625 34.90625 28.71875 34.90625 \nL 20.21875 34.90625 \nL 20.21875 43.015625 \nL 29.109375 43.015625 \nQ 36.375 43.015625 40.234375 45.921875 \nQ 44.09375 48.828125 44.09375 54.296875 \nQ 44.09375 59.90625 40.109375 62.90625 \nQ 36.140625 65.921875 28.71875 65.921875 \nQ 24.65625 65.921875 20.015625 65.03125 \nQ 15.375 64.15625 9.8125 62.3125 \nL 9.8125 71.09375 \nQ 15.4375 72.65625 20.34375 73.4375 \nQ 25.25 74.21875 29.59375 74.21875 \nQ 40.828125 74.21875 47.359375 69.109375 \nQ 53.90625 64.015625 53.90625 55.328125 \nQ 53.90625 49.265625 50.4375 45.09375 \nQ 46.96875 40.921875 40.578125 39.3125 \nz\n\" id=\"DejaVuSans-51\"/>\n       </defs>\n       <use xlink:href=\"#DejaVuSans-51\"/>\n       <use x=\"63.623047\" xlink:href=\"#DejaVuSans-48\"/>\n      </g>\n     </g>\n    </g>\n    <g id=\"xtick_8\">\n     <g id=\"line2d_8\">\n      <g>\n       <use style=\"stroke:#000000;stroke-width:0.8;\" x=\"604.902928\" xlink:href=\"#mfe083793c0\" y=\"226.139377\"/>\n      </g>\n     </g>\n     <g id=\"text_8\">\n      <!-- 35 -->\n      <g transform=\"translate(598.540428 240.737814)scale(0.1 -0.1)\">\n       <use xlink:href=\"#DejaVuSans-51\"/>\n       <use x=\"63.623047\" xlink:href=\"#DejaVuSans-53\"/>\n      </g>\n     </g>\n    </g>\n    <g id=\"xtick_9\">\n     <g id=\"line2d_9\">\n      <g>\n       <use style=\"stroke:#000000;stroke-width:0.8;\" x=\"682.944886\" xlink:href=\"#mfe083793c0\" y=\"226.139377\"/>\n      </g>\n     </g>\n     <g id=\"text_9\">\n      <!-- 40 -->\n      <g transform=\"translate(676.582386 240.737814)scale(0.1 -0.1)\">\n       <defs>\n        <path d=\"M 37.796875 64.3125 \nL 12.890625 25.390625 \nL 37.796875 25.390625 \nz\nM 35.203125 72.90625 \nL 47.609375 72.90625 \nL 47.609375 25.390625 \nL 58.015625 25.390625 \nL 58.015625 17.1875 \nL 47.609375 17.1875 \nL 47.609375 0 \nL 37.796875 0 \nL 37.796875 17.1875 \nL 4.890625 17.1875 \nL 4.890625 26.703125 \nz\n\" id=\"DejaVuSans-52\"/>\n       </defs>\n       <use xlink:href=\"#DejaVuSans-52\"/>\n       <use x=\"63.623047\" xlink:href=\"#DejaVuSans-48\"/>\n      </g>\n     </g>\n    </g>\n    <g id=\"text_10\">\n     <!-- Epoches -->\n     <g transform=\"translate(357.589063 254.415939)scale(0.1 -0.1)\">\n      <defs>\n       <path d=\"M 9.8125 72.90625 \nL 55.90625 72.90625 \nL 55.90625 64.59375 \nL 19.671875 64.59375 \nL 19.671875 43.015625 \nL 54.390625 43.015625 \nL 54.390625 34.71875 \nL 19.671875 34.71875 \nL 19.671875 8.296875 \nL 56.78125 8.296875 \nL 56.78125 0 \nL 9.8125 0 \nz\n\" id=\"DejaVuSans-69\"/>\n       <path d=\"M 18.109375 8.203125 \nL 18.109375 -20.796875 \nL 9.078125 -20.796875 \nL 9.078125 54.6875 \nL 18.109375 54.6875 \nL 18.109375 46.390625 \nQ 20.953125 51.265625 25.265625 53.625 \nQ 29.59375 56 35.59375 56 \nQ 45.5625 56 51.78125 48.09375 \nQ 58.015625 40.1875 58.015625 27.296875 \nQ 58.015625 14.40625 51.78125 6.484375 \nQ 45.5625 -1.421875 35.59375 -1.421875 \nQ 29.59375 -1.421875 25.265625 0.953125 \nQ 20.953125 3.328125 18.109375 8.203125 \nz\nM 48.6875 27.296875 \nQ 48.6875 37.203125 44.609375 42.84375 \nQ 40.53125 48.484375 33.40625 48.484375 \nQ 26.265625 48.484375 22.1875 42.84375 \nQ 18.109375 37.203125 18.109375 27.296875 \nQ 18.109375 17.390625 22.1875 11.75 \nQ 26.265625 6.109375 33.40625 6.109375 \nQ 40.53125 6.109375 44.609375 11.75 \nQ 48.6875 17.390625 48.6875 27.296875 \nz\n\" id=\"DejaVuSans-112\"/>\n       <path d=\"M 30.609375 48.390625 \nQ 23.390625 48.390625 19.1875 42.75 \nQ 14.984375 37.109375 14.984375 27.296875 \nQ 14.984375 17.484375 19.15625 11.84375 \nQ 23.34375 6.203125 30.609375 6.203125 \nQ 37.796875 6.203125 41.984375 11.859375 \nQ 46.1875 17.53125 46.1875 27.296875 \nQ 46.1875 37.015625 41.984375 42.703125 \nQ 37.796875 48.390625 30.609375 48.390625 \nz\nM 30.609375 56 \nQ 42.328125 56 49.015625 48.375 \nQ 55.71875 40.765625 55.71875 27.296875 \nQ 55.71875 13.875 49.015625 6.21875 \nQ 42.328125 -1.421875 30.609375 -1.421875 \nQ 18.84375 -1.421875 12.171875 6.21875 \nQ 5.515625 13.875 5.515625 27.296875 \nQ 5.515625 40.765625 12.171875 48.375 \nQ 18.84375 56 30.609375 56 \nz\n\" id=\"DejaVuSans-111\"/>\n       <path d=\"M 48.78125 52.59375 \nL 48.78125 44.1875 \nQ 44.96875 46.296875 41.140625 47.34375 \nQ 37.3125 48.390625 33.40625 48.390625 \nQ 24.65625 48.390625 19.8125 42.84375 \nQ 14.984375 37.3125 14.984375 27.296875 \nQ 14.984375 17.28125 19.8125 11.734375 \nQ 24.65625 6.203125 33.40625 6.203125 \nQ 37.3125 6.203125 41.140625 7.25 \nQ 44.96875 8.296875 48.78125 10.40625 \nL 48.78125 2.09375 \nQ 45.015625 0.34375 40.984375 -0.53125 \nQ 36.96875 -1.421875 32.421875 -1.421875 \nQ 20.0625 -1.421875 12.78125 6.34375 \nQ 5.515625 14.109375 5.515625 27.296875 \nQ 5.515625 40.671875 12.859375 48.328125 \nQ 20.21875 56 33.015625 56 \nQ 37.15625 56 41.109375 55.140625 \nQ 45.0625 54.296875 48.78125 52.59375 \nz\n\" id=\"DejaVuSans-99\"/>\n       <path d=\"M 54.890625 33.015625 \nL 54.890625 0 \nL 45.90625 0 \nL 45.90625 32.71875 \nQ 45.90625 40.484375 42.875 44.328125 \nQ 39.84375 48.1875 33.796875 48.1875 \nQ 26.515625 48.1875 22.3125 43.546875 \nQ 18.109375 38.921875 18.109375 30.90625 \nL 18.109375 0 \nL 9.078125 0 \nL 9.078125 75.984375 \nL 18.109375 75.984375 \nL 18.109375 46.1875 \nQ 21.34375 51.125 25.703125 53.5625 \nQ 30.078125 56 35.796875 56 \nQ 45.21875 56 50.046875 50.171875 \nQ 54.890625 44.34375 54.890625 33.015625 \nz\n\" id=\"DejaVuSans-104\"/>\n       <path d=\"M 56.203125 29.59375 \nL 56.203125 25.203125 \nL 14.890625 25.203125 \nQ 15.484375 15.921875 20.484375 11.0625 \nQ 25.484375 6.203125 34.421875 6.203125 \nQ 39.59375 6.203125 44.453125 7.46875 \nQ 49.3125 8.734375 54.109375 11.28125 \nL 54.109375 2.78125 \nQ 49.265625 0.734375 44.1875 -0.34375 \nQ 39.109375 -1.421875 33.890625 -1.421875 \nQ 20.796875 -1.421875 13.15625 6.1875 \nQ 5.515625 13.8125 5.515625 26.8125 \nQ 5.515625 40.234375 12.765625 48.109375 \nQ 20.015625 56 32.328125 56 \nQ 43.359375 56 49.78125 48.890625 \nQ 56.203125 41.796875 56.203125 29.59375 \nz\nM 47.21875 32.234375 \nQ 47.125 39.59375 43.09375 43.984375 \nQ 39.0625 48.390625 32.421875 48.390625 \nQ 24.90625 48.390625 20.390625 44.140625 \nQ 15.875 39.890625 15.1875 32.171875 \nz\n\" id=\"DejaVuSans-101\"/>\n       <path d=\"M 44.28125 53.078125 \nL 44.28125 44.578125 \nQ 40.484375 46.53125 36.375 47.5 \nQ 32.28125 48.484375 27.875 48.484375 \nQ 21.1875 48.484375 17.84375 46.4375 \nQ 14.5 44.390625 14.5 40.28125 \nQ 14.5 37.15625 16.890625 35.375 \nQ 19.28125 33.59375 26.515625 31.984375 \nL 29.59375 31.296875 \nQ 39.15625 29.25 43.1875 25.515625 \nQ 47.21875 21.78125 47.21875 15.09375 \nQ 47.21875 7.46875 41.1875 3.015625 \nQ 35.15625 -1.421875 24.609375 -1.421875 \nQ 20.21875 -1.421875 15.453125 -0.5625 \nQ 10.6875 0.296875 5.421875 2 \nL 5.421875 11.28125 \nQ 10.40625 8.6875 15.234375 7.390625 \nQ 20.0625 6.109375 24.8125 6.109375 \nQ 31.15625 6.109375 34.5625 8.28125 \nQ 37.984375 10.453125 37.984375 14.40625 \nQ 37.984375 18.0625 35.515625 20.015625 \nQ 33.0625 21.96875 24.703125 23.78125 \nL 21.578125 24.515625 \nQ 13.234375 26.265625 9.515625 29.90625 \nQ 5.8125 33.546875 5.8125 39.890625 \nQ 5.8125 47.609375 11.28125 51.796875 \nQ 16.75 56 26.8125 56 \nQ 31.78125 56 36.171875 55.265625 \nQ 40.578125 54.546875 44.28125 53.078125 \nz\n\" id=\"DejaVuSans-115\"/>\n      </defs>\n      <use xlink:href=\"#DejaVuSans-69\"/>\n      <use x=\"63.183594\" xlink:href=\"#DejaVuSans-112\"/>\n      <use x=\"126.660156\" xlink:href=\"#DejaVuSans-111\"/>\n      <use x=\"187.841797\" xlink:href=\"#DejaVuSans-99\"/>\n      <use x=\"242.822266\" xlink:href=\"#DejaVuSans-104\"/>\n      <use x=\"306.201172\" xlink:href=\"#DejaVuSans-101\"/>\n      <use x=\"367.724609\" xlink:href=\"#DejaVuSans-115\"/>\n     </g>\n    </g>\n   </g>\n   <g id=\"matplotlib.axis_2\">\n    <g id=\"ytick_1\">\n     <g id=\"line2d_10\">\n      <defs>\n       <path d=\"M 0 0 \nL -3.5 0 \n\" id=\"m4d5a23d510\" style=\"stroke:#000000;stroke-width:0.8;\"/>\n      </defs>\n      <g>\n       <use style=\"stroke:#000000;stroke-width:0.8;\" x=\"43.78125\" xlink:href=\"#m4d5a23d510\" y=\"208.903626\"/>\n      </g>\n     </g>\n     <g id=\"text_11\">\n      <!-- 0.2 -->\n      <g transform=\"translate(20.878125 212.702845)scale(0.1 -0.1)\">\n       <defs>\n        <path d=\"M 10.6875 12.40625 \nL 21 12.40625 \nL 21 0 \nL 10.6875 0 \nz\n\" id=\"DejaVuSans-46\"/>\n       </defs>\n       <use xlink:href=\"#DejaVuSans-48\"/>\n       <use x=\"63.623047\" xlink:href=\"#DejaVuSans-46\"/>\n       <use x=\"95.410156\" xlink:href=\"#DejaVuSans-50\"/>\n      </g>\n     </g>\n    </g>\n    <g id=\"ytick_2\">\n     <g id=\"line2d_11\">\n      <g>\n       <use style=\"stroke:#000000;stroke-width:0.8;\" x=\"43.78125\" xlink:href=\"#m4d5a23d510\" y=\"169.322744\"/>\n      </g>\n     </g>\n     <g id=\"text_12\">\n      <!-- 0.4 -->\n      <g transform=\"translate(20.878125 173.121963)scale(0.1 -0.1)\">\n       <use xlink:href=\"#DejaVuSans-48\"/>\n       <use x=\"63.623047\" xlink:href=\"#DejaVuSans-46\"/>\n       <use x=\"95.410156\" xlink:href=\"#DejaVuSans-52\"/>\n      </g>\n     </g>\n    </g>\n    <g id=\"ytick_3\">\n     <g id=\"line2d_12\">\n      <g>\n       <use style=\"stroke:#000000;stroke-width:0.8;\" x=\"43.78125\" xlink:href=\"#m4d5a23d510\" y=\"129.741863\"/>\n      </g>\n     </g>\n     <g id=\"text_13\">\n      <!-- 0.6 -->\n      <g transform=\"translate(20.878125 133.541082)scale(0.1 -0.1)\">\n       <defs>\n        <path d=\"M 33.015625 40.375 \nQ 26.375 40.375 22.484375 35.828125 \nQ 18.609375 31.296875 18.609375 23.390625 \nQ 18.609375 15.53125 22.484375 10.953125 \nQ 26.375 6.390625 33.015625 6.390625 \nQ 39.65625 6.390625 43.53125 10.953125 \nQ 47.40625 15.53125 47.40625 23.390625 \nQ 47.40625 31.296875 43.53125 35.828125 \nQ 39.65625 40.375 33.015625 40.375 \nz\nM 52.59375 71.296875 \nL 52.59375 62.3125 \nQ 48.875 64.0625 45.09375 64.984375 \nQ 41.3125 65.921875 37.59375 65.921875 \nQ 27.828125 65.921875 22.671875 59.328125 \nQ 17.53125 52.734375 16.796875 39.40625 \nQ 19.671875 43.65625 24.015625 45.921875 \nQ 28.375 48.1875 33.59375 48.1875 \nQ 44.578125 48.1875 50.953125 41.515625 \nQ 57.328125 34.859375 57.328125 23.390625 \nQ 57.328125 12.15625 50.6875 5.359375 \nQ 44.046875 -1.421875 33.015625 -1.421875 \nQ 20.359375 -1.421875 13.671875 8.265625 \nQ 6.984375 17.96875 6.984375 36.375 \nQ 6.984375 53.65625 15.1875 63.9375 \nQ 23.390625 74.21875 37.203125 74.21875 \nQ 40.921875 74.21875 44.703125 73.484375 \nQ 48.484375 72.75 52.59375 71.296875 \nz\n\" id=\"DejaVuSans-54\"/>\n       </defs>\n       <use xlink:href=\"#DejaVuSans-48\"/>\n       <use x=\"63.623047\" xlink:href=\"#DejaVuSans-46\"/>\n       <use x=\"95.410156\" xlink:href=\"#DejaVuSans-54\"/>\n      </g>\n     </g>\n    </g>\n    <g id=\"ytick_4\">\n     <g id=\"line2d_13\">\n      <g>\n       <use style=\"stroke:#000000;stroke-width:0.8;\" x=\"43.78125\" xlink:href=\"#m4d5a23d510\" y=\"90.160982\"/>\n      </g>\n     </g>\n     <g id=\"text_14\">\n      <!-- 0.8 -->\n      <g transform=\"translate(20.878125 93.9602)scale(0.1 -0.1)\">\n       <defs>\n        <path d=\"M 31.78125 34.625 \nQ 24.75 34.625 20.71875 30.859375 \nQ 16.703125 27.09375 16.703125 20.515625 \nQ 16.703125 13.921875 20.71875 10.15625 \nQ 24.75 6.390625 31.78125 6.390625 \nQ 38.8125 6.390625 42.859375 10.171875 \nQ 46.921875 13.96875 46.921875 20.515625 \nQ 46.921875 27.09375 42.890625 30.859375 \nQ 38.875 34.625 31.78125 34.625 \nz\nM 21.921875 38.8125 \nQ 15.578125 40.375 12.03125 44.71875 \nQ 8.5 49.078125 8.5 55.328125 \nQ 8.5 64.0625 14.71875 69.140625 \nQ 20.953125 74.21875 31.78125 74.21875 \nQ 42.671875 74.21875 48.875 69.140625 \nQ 55.078125 64.0625 55.078125 55.328125 \nQ 55.078125 49.078125 51.53125 44.71875 \nQ 48 40.375 41.703125 38.8125 \nQ 48.828125 37.15625 52.796875 32.3125 \nQ 56.78125 27.484375 56.78125 20.515625 \nQ 56.78125 9.90625 50.3125 4.234375 \nQ 43.84375 -1.421875 31.78125 -1.421875 \nQ 19.734375 -1.421875 13.25 4.234375 \nQ 6.78125 9.90625 6.78125 20.515625 \nQ 6.78125 27.484375 10.78125 32.3125 \nQ 14.796875 37.15625 21.921875 38.8125 \nz\nM 18.3125 54.390625 \nQ 18.3125 48.734375 21.84375 45.5625 \nQ 25.390625 42.390625 31.78125 42.390625 \nQ 38.140625 42.390625 41.71875 45.5625 \nQ 45.3125 48.734375 45.3125 54.390625 \nQ 45.3125 60.0625 41.71875 63.234375 \nQ 38.140625 66.40625 31.78125 66.40625 \nQ 25.390625 66.40625 21.84375 63.234375 \nQ 18.3125 60.0625 18.3125 54.390625 \nz\n\" id=\"DejaVuSans-56\"/>\n       </defs>\n       <use xlink:href=\"#DejaVuSans-48\"/>\n       <use x=\"63.623047\" xlink:href=\"#DejaVuSans-46\"/>\n       <use x=\"95.410156\" xlink:href=\"#DejaVuSans-56\"/>\n      </g>\n     </g>\n    </g>\n    <g id=\"ytick_5\">\n     <g id=\"line2d_14\">\n      <g>\n       <use style=\"stroke:#000000;stroke-width:0.8;\" x=\"43.78125\" xlink:href=\"#m4d5a23d510\" y=\"50.5801\"/>\n      </g>\n     </g>\n     <g id=\"text_15\">\n      <!-- 1.0 -->\n      <g transform=\"translate(20.878125 54.379319)scale(0.1 -0.1)\">\n       <use xlink:href=\"#DejaVuSans-49\"/>\n       <use x=\"63.623047\" xlink:href=\"#DejaVuSans-46\"/>\n       <use x=\"95.410156\" xlink:href=\"#DejaVuSans-48\"/>\n      </g>\n     </g>\n    </g>\n    <g id=\"ytick_6\">\n     <g id=\"line2d_15\">\n      <g>\n       <use style=\"stroke:#000000;stroke-width:0.8;\" x=\"43.78125\" xlink:href=\"#m4d5a23d510\" y=\"10.999219\"/>\n      </g>\n     </g>\n     <g id=\"text_16\">\n      <!-- 1.2 -->\n      <g transform=\"translate(20.878125 14.798437)scale(0.1 -0.1)\">\n       <use xlink:href=\"#DejaVuSans-49\"/>\n       <use x=\"63.623047\" xlink:href=\"#DejaVuSans-46\"/>\n       <use x=\"95.410156\" xlink:href=\"#DejaVuSans-50\"/>\n      </g>\n     </g>\n    </g>\n    <g id=\"text_17\">\n     <!-- loss -->\n     <g transform=\"translate(14.798438 127.077189)rotate(-90)scale(0.1 -0.1)\">\n      <defs>\n       <path d=\"M 9.421875 75.984375 \nL 18.40625 75.984375 \nL 18.40625 0 \nL 9.421875 0 \nz\n\" id=\"DejaVuSans-108\"/>\n      </defs>\n      <use xlink:href=\"#DejaVuSans-108\"/>\n      <use x=\"27.783203\" xlink:href=\"#DejaVuSans-111\"/>\n      <use x=\"88.964844\" xlink:href=\"#DejaVuSans-115\"/>\n      <use x=\"141.064453\" xlink:href=\"#DejaVuSans-115\"/>\n     </g>\n    </g>\n   </g>\n   <g id=\"line2d_16\">\n    <defs>\n     <path d=\"M 0 3 \nC 0.795609 3 1.55874 2.683901 2.12132 2.12132 \nC 2.683901 1.55874 3 0.795609 3 0 \nC 3 -0.795609 2.683901 -1.55874 2.12132 -2.12132 \nC 1.55874 -2.683901 0.795609 -3 0 -3 \nC -0.795609 -3 -1.55874 -2.683901 -2.12132 -2.12132 \nC -2.683901 -1.55874 -3 -0.795609 -3 0 \nC -3 0.795609 -2.683901 1.55874 -2.12132 2.12132 \nC -1.55874 2.683901 -0.795609 3 0 3 \nz\n\" id=\"m010ec70360\" style=\"stroke:#0000ff;\"/>\n    </defs>\n    <g clip-path=\"url(#p05308af65f)\">\n     <use style=\"fill:#0000ff;stroke:#0000ff;\" x=\"74.217614\" xlink:href=\"#m010ec70360\" y=\"18.583013\"/>\n     <use style=\"fill:#0000ff;stroke:#0000ff;\" x=\"89.826005\" xlink:href=\"#m010ec70360\" y=\"74.753145\"/>\n     <use style=\"fill:#0000ff;stroke:#0000ff;\" x=\"105.434397\" xlink:href=\"#m010ec70360\" y=\"106.786269\"/>\n     <use style=\"fill:#0000ff;stroke:#0000ff;\" x=\"121.042788\" xlink:href=\"#m010ec70360\" y=\"147.643973\"/>\n     <use style=\"fill:#0000ff;stroke:#0000ff;\" x=\"136.65118\" xlink:href=\"#m010ec70360\" y=\"159.138931\"/>\n     <use style=\"fill:#0000ff;stroke:#0000ff;\" x=\"152.259572\" xlink:href=\"#m010ec70360\" y=\"172.700162\"/>\n     <use style=\"fill:#0000ff;stroke:#0000ff;\" x=\"167.867963\" xlink:href=\"#m010ec70360\" y=\"175.018824\"/>\n     <use style=\"fill:#0000ff;stroke:#0000ff;\" x=\"183.476355\" xlink:href=\"#m010ec70360\" y=\"187.432804\"/>\n     <use style=\"fill:#0000ff;stroke:#0000ff;\" x=\"199.084747\" xlink:href=\"#m010ec70360\" y=\"187.891575\"/>\n     <use style=\"fill:#0000ff;stroke:#0000ff;\" x=\"214.693138\" xlink:href=\"#m010ec70360\" y=\"191.770986\"/>\n     <use style=\"fill:#0000ff;stroke:#0000ff;\" x=\"230.30153\" xlink:href=\"#m010ec70360\" y=\"189.703373\"/>\n     <use style=\"fill:#0000ff;stroke:#0000ff;\" x=\"245.909921\" xlink:href=\"#m010ec70360\" y=\"194.335158\"/>\n     <use style=\"fill:#0000ff;stroke:#0000ff;\" x=\"261.518313\" xlink:href=\"#m010ec70360\" y=\"203.769722\"/>\n     <use style=\"fill:#0000ff;stroke:#0000ff;\" x=\"277.126705\" xlink:href=\"#m010ec70360\" y=\"198.389161\"/>\n     <use style=\"fill:#0000ff;stroke:#0000ff;\" x=\"292.735096\" xlink:href=\"#m010ec70360\" y=\"198.591658\"/>\n     <use style=\"fill:#0000ff;stroke:#0000ff;\" x=\"308.343488\" xlink:href=\"#m010ec70360\" y=\"201.857251\"/>\n     <use style=\"fill:#0000ff;stroke:#0000ff;\" x=\"323.951879\" xlink:href=\"#m010ec70360\" y=\"201.138053\"/>\n     <use style=\"fill:#0000ff;stroke:#0000ff;\" x=\"339.560271\" xlink:href=\"#m010ec70360\" y=\"201.666064\"/>\n     <use style=\"fill:#0000ff;stroke:#0000ff;\" x=\"355.168663\" xlink:href=\"#m010ec70360\" y=\"208.748319\"/>\n     <use style=\"fill:#0000ff;stroke:#0000ff;\" x=\"370.777054\" xlink:href=\"#m010ec70360\" y=\"207.162872\"/>\n     <use style=\"fill:#0000ff;stroke:#0000ff;\" x=\"386.385446\" xlink:href=\"#m010ec70360\" y=\"199.508952\"/>\n     <use style=\"fill:#0000ff;stroke:#0000ff;\" x=\"401.993837\" xlink:href=\"#m010ec70360\" y=\"206.815364\"/>\n     <use style=\"fill:#0000ff;stroke:#0000ff;\" x=\"417.602229\" xlink:href=\"#m010ec70360\" y=\"208.294048\"/>\n     <use style=\"fill:#0000ff;stroke:#0000ff;\" x=\"433.210621\" xlink:href=\"#m010ec70360\" y=\"206.672655\"/>\n     <use style=\"fill:#0000ff;stroke:#0000ff;\" x=\"448.819012\" xlink:href=\"#m010ec70360\" y=\"211.477579\"/>\n     <use style=\"fill:#0000ff;stroke:#0000ff;\" x=\"464.427404\" xlink:href=\"#m010ec70360\" y=\"210.631341\"/>\n     <use style=\"fill:#0000ff;stroke:#0000ff;\" x=\"480.035795\" xlink:href=\"#m010ec70360\" y=\"205.201491\"/>\n     <use style=\"fill:#0000ff;stroke:#0000ff;\" x=\"495.644187\" xlink:href=\"#m010ec70360\" y=\"207.41707\"/>\n     <use style=\"fill:#0000ff;stroke:#0000ff;\" x=\"511.252579\" xlink:href=\"#m010ec70360\" y=\"203.774803\"/>\n     <use style=\"fill:#0000ff;stroke:#0000ff;\" x=\"526.86097\" xlink:href=\"#m010ec70360\" y=\"213.358254\"/>\n     <use style=\"fill:#0000ff;stroke:#0000ff;\" x=\"542.469362\" xlink:href=\"#m010ec70360\" y=\"213.113973\"/>\n     <use style=\"fill:#0000ff;stroke:#0000ff;\" x=\"558.077753\" xlink:href=\"#m010ec70360\" y=\"213.407414\"/>\n     <use style=\"fill:#0000ff;stroke:#0000ff;\" x=\"573.686145\" xlink:href=\"#m010ec70360\" y=\"208.954363\"/>\n     <use style=\"fill:#0000ff;stroke:#0000ff;\" x=\"589.294537\" xlink:href=\"#m010ec70360\" y=\"215.629348\"/>\n     <use style=\"fill:#0000ff;stroke:#0000ff;\" x=\"604.902928\" xlink:href=\"#m010ec70360\" y=\"214.023391\"/>\n     <use style=\"fill:#0000ff;stroke:#0000ff;\" x=\"620.51132\" xlink:href=\"#m010ec70360\" y=\"210.374583\"/>\n     <use style=\"fill:#0000ff;stroke:#0000ff;\" x=\"636.119712\" xlink:href=\"#m010ec70360\" y=\"209.957317\"/>\n     <use style=\"fill:#0000ff;stroke:#0000ff;\" x=\"651.728103\" xlink:href=\"#m010ec70360\" y=\"210.815471\"/>\n     <use style=\"fill:#0000ff;stroke:#0000ff;\" x=\"667.336495\" xlink:href=\"#m010ec70360\" y=\"216.255741\"/>\n     <use style=\"fill:#0000ff;stroke:#0000ff;\" x=\"682.944886\" xlink:href=\"#m010ec70360\" y=\"213.551494\"/>\n    </g>\n   </g>\n   <g id=\"line2d_17\">\n    <path clip-path=\"url(#p05308af65f)\" d=\"M 74.217614 145.291492 \nL 89.826005 116.736721 \nL 105.434397 109.244619 \nL 121.042788 90.443706 \nL 136.65118 84.038761 \nL 152.259572 77.297193 \nL 167.867963 76.492764 \nL 183.476355 72.066861 \nL 199.084747 72.632303 \nL 214.693138 69.522376 \nL 230.30153 71.218703 \nL 245.909921 68.946766 \nL 261.518313 65.705655 \nL 277.126705 67.401971 \nL 292.735096 66.836528 \nL 308.343488 66.977892 \nL 323.951879 66.271098 \nL 339.560271 65.422928 \nL 355.168663 64.99885 \nL 370.777054 65.422928 \nL 386.385446 67.119255 \nL 401.993837 65.281565 \nL 417.602229 62.17165 \nL 433.210621 64.99885 \nL 448.819012 63.019807 \nL 464.427404 63.443886 \nL 480.035795 65.281565 \nL 495.644187 65.281565 \nL 511.252579 67.119255 \nL 526.86097 62.878444 \nL 542.469362 62.595729 \nL 558.077753 63.726601 \nL 573.686145 63.019807 \nL 589.294537 60.051244 \nL 604.902928 62.17165 \nL 620.51132 65.140213 \nL 636.119712 64.67545 \nL 651.728103 64.150692 \nL 667.336495 60.192596 \nL 682.944886 63.443886 \n\" style=\"fill:none;stroke:#ff0000;stroke-linecap:square;stroke-width:1.5;\"/>\n   </g>\n   <g id=\"patch_3\">\n    <path d=\"M 43.78125 226.139377 \nL 43.78125 8.699377 \n\" style=\"fill:none;stroke:#000000;stroke-linecap:square;stroke-linejoin:miter;stroke-width:0.8;\"/>\n   </g>\n   <g id=\"patch_4\">\n    <path d=\"M 713.38125 226.139377 \nL 713.38125 8.699377 \n\" style=\"fill:none;stroke:#000000;stroke-linecap:square;stroke-linejoin:miter;stroke-width:0.8;\"/>\n   </g>\n   <g id=\"patch_5\">\n    <path d=\"M 43.78125 226.139377 \nL 713.38125 226.139377 \n\" style=\"fill:none;stroke:#000000;stroke-linecap:square;stroke-linejoin:miter;stroke-width:0.8;\"/>\n   </g>\n   <g id=\"patch_6\">\n    <path d=\"M 43.78125 8.699377 \nL 713.38125 8.699377 \n\" style=\"fill:none;stroke:#000000;stroke-linecap:square;stroke-linejoin:miter;stroke-width:0.8;\"/>\n   </g>\n   <g id=\"legend_1\">\n    <g id=\"patch_7\">\n     <path d=\"M 586.632812 46.055627 \nL 706.38125 46.055627 \nQ 708.38125 46.055627 708.38125 44.055627 \nL 708.38125 15.699377 \nQ 708.38125 13.699377 706.38125 13.699377 \nL 586.632812 13.699377 \nQ 584.632812 13.699377 584.632812 15.699377 \nL 584.632812 44.055627 \nQ 584.632812 46.055627 586.632812 46.055627 \nz\n\" style=\"fill:#ffffff;opacity:0.8;stroke:#cccccc;stroke-linejoin:miter;\"/>\n    </g>\n    <g id=\"line2d_18\"/>\n    <g id=\"line2d_19\">\n     <g>\n      <use style=\"fill:#0000ff;stroke:#0000ff;\" x=\"598.632812\" xlink:href=\"#m010ec70360\" y=\"21.797814\"/>\n     </g>\n    </g>\n    <g id=\"text_18\">\n     <!-- Training loss -->\n     <g transform=\"translate(616.632812 25.297814)scale(0.1 -0.1)\">\n      <defs>\n       <path d=\"M -0.296875 72.90625 \nL 61.375 72.90625 \nL 61.375 64.59375 \nL 35.5 64.59375 \nL 35.5 0 \nL 25.59375 0 \nL 25.59375 64.59375 \nL -0.296875 64.59375 \nz\n\" id=\"DejaVuSans-84\"/>\n       <path d=\"M 41.109375 46.296875 \nQ 39.59375 47.171875 37.8125 47.578125 \nQ 36.03125 48 33.890625 48 \nQ 26.265625 48 22.1875 43.046875 \nQ 18.109375 38.09375 18.109375 28.8125 \nL 18.109375 0 \nL 9.078125 0 \nL 9.078125 54.6875 \nL 18.109375 54.6875 \nL 18.109375 46.1875 \nQ 20.953125 51.171875 25.484375 53.578125 \nQ 30.03125 56 36.53125 56 \nQ 37.453125 56 38.578125 55.875 \nQ 39.703125 55.765625 41.0625 55.515625 \nz\n\" id=\"DejaVuSans-114\"/>\n       <path d=\"M 34.28125 27.484375 \nQ 23.390625 27.484375 19.1875 25 \nQ 14.984375 22.515625 14.984375 16.5 \nQ 14.984375 11.71875 18.140625 8.90625 \nQ 21.296875 6.109375 26.703125 6.109375 \nQ 34.1875 6.109375 38.703125 11.40625 \nQ 43.21875 16.703125 43.21875 25.484375 \nL 43.21875 27.484375 \nz\nM 52.203125 31.203125 \nL 52.203125 0 \nL 43.21875 0 \nL 43.21875 8.296875 \nQ 40.140625 3.328125 35.546875 0.953125 \nQ 30.953125 -1.421875 24.3125 -1.421875 \nQ 15.921875 -1.421875 10.953125 3.296875 \nQ 6 8.015625 6 15.921875 \nQ 6 25.140625 12.171875 29.828125 \nQ 18.359375 34.515625 30.609375 34.515625 \nL 43.21875 34.515625 \nL 43.21875 35.40625 \nQ 43.21875 41.609375 39.140625 45 \nQ 35.0625 48.390625 27.6875 48.390625 \nQ 23 48.390625 18.546875 47.265625 \nQ 14.109375 46.140625 10.015625 43.890625 \nL 10.015625 52.203125 \nQ 14.9375 54.109375 19.578125 55.046875 \nQ 24.21875 56 28.609375 56 \nQ 40.484375 56 46.34375 49.84375 \nQ 52.203125 43.703125 52.203125 31.203125 \nz\n\" id=\"DejaVuSans-97\"/>\n       <path d=\"M 9.421875 54.6875 \nL 18.40625 54.6875 \nL 18.40625 0 \nL 9.421875 0 \nz\nM 9.421875 75.984375 \nL 18.40625 75.984375 \nL 18.40625 64.59375 \nL 9.421875 64.59375 \nz\n\" id=\"DejaVuSans-105\"/>\n       <path d=\"M 54.890625 33.015625 \nL 54.890625 0 \nL 45.90625 0 \nL 45.90625 32.71875 \nQ 45.90625 40.484375 42.875 44.328125 \nQ 39.84375 48.1875 33.796875 48.1875 \nQ 26.515625 48.1875 22.3125 43.546875 \nQ 18.109375 38.921875 18.109375 30.90625 \nL 18.109375 0 \nL 9.078125 0 \nL 9.078125 54.6875 \nL 18.109375 54.6875 \nL 18.109375 46.1875 \nQ 21.34375 51.125 25.703125 53.5625 \nQ 30.078125 56 35.796875 56 \nQ 45.21875 56 50.046875 50.171875 \nQ 54.890625 44.34375 54.890625 33.015625 \nz\n\" id=\"DejaVuSans-110\"/>\n       <path d=\"M 45.40625 27.984375 \nQ 45.40625 37.75 41.375 43.109375 \nQ 37.359375 48.484375 30.078125 48.484375 \nQ 22.859375 48.484375 18.828125 43.109375 \nQ 14.796875 37.75 14.796875 27.984375 \nQ 14.796875 18.265625 18.828125 12.890625 \nQ 22.859375 7.515625 30.078125 7.515625 \nQ 37.359375 7.515625 41.375 12.890625 \nQ 45.40625 18.265625 45.40625 27.984375 \nz\nM 54.390625 6.78125 \nQ 54.390625 -7.171875 48.1875 -13.984375 \nQ 42 -20.796875 29.203125 -20.796875 \nQ 24.46875 -20.796875 20.265625 -20.09375 \nQ 16.0625 -19.390625 12.109375 -17.921875 \nL 12.109375 -9.1875 \nQ 16.0625 -11.328125 19.921875 -12.34375 \nQ 23.78125 -13.375 27.78125 -13.375 \nQ 36.625 -13.375 41.015625 -8.765625 \nQ 45.40625 -4.15625 45.40625 5.171875 \nL 45.40625 9.625 \nQ 42.625 4.78125 38.28125 2.390625 \nQ 33.9375 0 27.875 0 \nQ 17.828125 0 11.671875 7.65625 \nQ 5.515625 15.328125 5.515625 27.984375 \nQ 5.515625 40.671875 11.671875 48.328125 \nQ 17.828125 56 27.875 56 \nQ 33.9375 56 38.28125 53.609375 \nQ 42.625 51.21875 45.40625 46.390625 \nL 45.40625 54.6875 \nL 54.390625 54.6875 \nz\n\" id=\"DejaVuSans-103\"/>\n       <path id=\"DejaVuSans-32\"/>\n      </defs>\n      <use xlink:href=\"#DejaVuSans-84\"/>\n      <use x=\"46.333984\" xlink:href=\"#DejaVuSans-114\"/>\n      <use x=\"87.447266\" xlink:href=\"#DejaVuSans-97\"/>\n      <use x=\"148.726562\" xlink:href=\"#DejaVuSans-105\"/>\n      <use x=\"176.509766\" xlink:href=\"#DejaVuSans-110\"/>\n      <use x=\"239.888672\" xlink:href=\"#DejaVuSans-105\"/>\n      <use x=\"267.671875\" xlink:href=\"#DejaVuSans-110\"/>\n      <use x=\"331.050781\" xlink:href=\"#DejaVuSans-103\"/>\n      <use x=\"394.527344\" xlink:href=\"#DejaVuSans-32\"/>\n      <use x=\"426.314453\" xlink:href=\"#DejaVuSans-108\"/>\n      <use x=\"454.097656\" xlink:href=\"#DejaVuSans-111\"/>\n      <use x=\"515.279297\" xlink:href=\"#DejaVuSans-115\"/>\n      <use x=\"567.378906\" xlink:href=\"#DejaVuSans-115\"/>\n     </g>\n    </g>\n    <g id=\"line2d_20\">\n     <path d=\"M 588.632812 36.475939 \nL 608.632812 36.475939 \n\" style=\"fill:none;stroke:#ff0000;stroke-linecap:square;stroke-width:1.5;\"/>\n    </g>\n    <g id=\"line2d_21\"/>\n    <g id=\"text_19\">\n     <!-- Training accuracy -->\n     <g transform=\"translate(616.632812 39.975939)scale(0.1 -0.1)\">\n      <defs>\n       <path d=\"M 8.5 21.578125 \nL 8.5 54.6875 \nL 17.484375 54.6875 \nL 17.484375 21.921875 \nQ 17.484375 14.15625 20.5 10.265625 \nQ 23.53125 6.390625 29.59375 6.390625 \nQ 36.859375 6.390625 41.078125 11.03125 \nQ 45.3125 15.671875 45.3125 23.6875 \nL 45.3125 54.6875 \nL 54.296875 54.6875 \nL 54.296875 0 \nL 45.3125 0 \nL 45.3125 8.40625 \nQ 42.046875 3.421875 37.71875 1 \nQ 33.40625 -1.421875 27.6875 -1.421875 \nQ 18.265625 -1.421875 13.375 4.4375 \nQ 8.5 10.296875 8.5 21.578125 \nz\nM 31.109375 56 \nz\n\" id=\"DejaVuSans-117\"/>\n       <path d=\"M 32.171875 -5.078125 \nQ 28.375 -14.84375 24.75 -17.8125 \nQ 21.140625 -20.796875 15.09375 -20.796875 \nL 7.90625 -20.796875 \nL 7.90625 -13.28125 \nL 13.1875 -13.28125 \nQ 16.890625 -13.28125 18.9375 -11.515625 \nQ 21 -9.765625 23.484375 -3.21875 \nL 25.09375 0.875 \nL 2.984375 54.6875 \nL 12.5 54.6875 \nL 29.59375 11.921875 \nL 46.6875 54.6875 \nL 56.203125 54.6875 \nz\n\" id=\"DejaVuSans-121\"/>\n      </defs>\n      <use xlink:href=\"#DejaVuSans-84\"/>\n      <use x=\"46.333984\" xlink:href=\"#DejaVuSans-114\"/>\n      <use x=\"87.447266\" xlink:href=\"#DejaVuSans-97\"/>\n      <use x=\"148.726562\" xlink:href=\"#DejaVuSans-105\"/>\n      <use x=\"176.509766\" xlink:href=\"#DejaVuSans-110\"/>\n      <use x=\"239.888672\" xlink:href=\"#DejaVuSans-105\"/>\n      <use x=\"267.671875\" xlink:href=\"#DejaVuSans-110\"/>\n      <use x=\"331.050781\" xlink:href=\"#DejaVuSans-103\"/>\n      <use x=\"394.527344\" xlink:href=\"#DejaVuSans-32\"/>\n      <use x=\"426.314453\" xlink:href=\"#DejaVuSans-97\"/>\n      <use x=\"487.59375\" xlink:href=\"#DejaVuSans-99\"/>\n      <use x=\"542.574219\" xlink:href=\"#DejaVuSans-99\"/>\n      <use x=\"597.554688\" xlink:href=\"#DejaVuSans-117\"/>\n      <use x=\"660.933594\" xlink:href=\"#DejaVuSans-114\"/>\n      <use x=\"702.046875\" xlink:href=\"#DejaVuSans-97\"/>\n      <use x=\"763.326172\" xlink:href=\"#DejaVuSans-99\"/>\n      <use x=\"818.306641\" xlink:href=\"#DejaVuSans-121\"/>\n     </g>\n    </g>\n   </g>\n  </g>\n </g>\n <defs>\n  <clipPath id=\"p05308af65f\">\n   <rect height=\"217.44\" width=\"669.6\" x=\"43.78125\" y=\"8.699377\"/>\n  </clipPath>\n </defs>\n</svg>\n",
            "image/png": "[encoded data removed]"
          },
          "metadata": {
            "needs_background": "light"
          }
        }
      ]
    },
    {
      "cell_type": "code",
      "metadata": {
        "id": "T2k3v8qAqaqK"
      },
      "source": [
        "def test(test_set):\n",
        "    results = model.evaluate(test_set)\n",
        "    return results\n",
        "\n",
        "results=test(test_set)\n",
        "print(\"test set resulat is\",results)\n"
      ],
      "execution_count": 50,
      "outputs": [
        {
          "output_type": "stream",
          "name": "stdout",
          "text": [
            "20/20 [==============================] - 24s 1s/step - loss: 0.2857 - accuracy: 0.9068\n",
            "test set resulat is [0.2856733500957489, 0.9068100452423096]\n"
          ]
        }
      ]
    },
    {
      "cell_type": "code",
      "metadata": {
        "id": "BMsDHo6a02BE"
      },
      "source": [
        " def save(name):\n",
        "     model.save(name)\n",
        "\n",
        "save(\"mask\")"
      ],
      "execution_count": 51,
      "outputs": [
        {
          "output_type": "stream",
          "name": "stdout",
          "text": [
            "INFO:tensorflow:Assets written to: mask/assets\n"
          ]
        }
      ]
    },
    {
      "cell_type": "code",
      "metadata": {
        "id": "O59O-6IVlAk-"
      },
      "source": [
        "model.load_weights(\"weights-improvement1.hdf5\")"
      ],
      "execution_count": 52,
      "outputs": []
    },
    {
      "cell_type": "code",
      "metadata": {
        "id": "B369vNaalAk-"
      },
      "source": [
        "    model.compile(optimizer=optimizers.RMSprop(lr=0.0006),loss='binary_crossentropy',metrics=['accuracy'])\n"
      ],
      "execution_count": 53,
      "outputs": []
    },
    {
      "cell_type": "code",
      "metadata": {
        "id": "i0LpZD2slAk_"
      },
      "source": [
        "def test_best(test_set):\n",
        "    results = model.evaluate(test_set)\n",
        "    return results\n",
        "\n",
        "results=test_best(test_set)\n",
        "print(results)"
      ],
      "execution_count": 54,
      "outputs": [
        {
          "output_type": "stream",
          "name": "stdout",
          "text": [
            "20/20 [==============================] - 13s 572ms/step - loss: 0.2576 - accuracy: 0.9039\n",
            "[0.23436865210533142, 0.9157705903053284]\n"
          ]
        }
      ]
    },
    {
      "cell_type": "code",
      "metadata": {
        "id": "AKV1FtsylAlA"
      },
      "source": [],
      "execution_count": null,
      "outputs": []
    }
  ]
}